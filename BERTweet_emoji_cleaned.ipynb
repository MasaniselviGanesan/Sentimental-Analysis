{
 "nbformat": 4,
 "nbformat_minor": 0,
 "metadata": {
  "colab": {
   "provenance": []
  },
  "kernelspec": {
   "name": "python3",
   "display_name": "Python 3"
  },
  "language_info": {
   "name": "python"
  }
 },
 "cells": [
  {
   "cell_type": "code",
   "execution_count": 13,
   "metadata": {
    "colab": {
     "base_uri": "https://localhost:8080/",
     "height": 689,
     "referenced_widgets": [
      "2e56d17796044ebbbce5a9b6cdf69a27",
      "06b95470a664487ba5d953fbe4515713",
      "44cd41889fff4c7bb4805588c79e8855",
      "5f01f28d4df840f0bc6bae8c2e5a341e",
      "6db61a962e5642508e59a0bf498dde82",
      "9377c1bf886b43319391be9a14322b55",
      "f04d45c3ab644d7b8175030a980c34ea",
      "6cec848cd802420a8e3bd2bcafb769a2",
      "c05ad9a4a3c4410bbb6f94a241699a99",
      "5089fc45faf3416b97307aa58df137c3",
      "eb79547b149844fd9b84e9cde3910de8",
      "c154a73d5f194f148b716f21b2616d89",
      "e601cd918ca847d0baa73bb6a5440f5b",
      "a5c76539afa149e89a47f5849c5c6fdb",
      "214ed6d343164cc5a861cd4bf3673afe",
      "1ddb2384269841c38733048ebfc10153",
      "c699823d2bfa41f5b6694834d26dab5d",
      "ae0f42c49f584a229ddd719f366245cd",
      "4b79ea52449c4988a035a522802120e2",
      "e033d1eb23e64294af05421bf291e39a",
      "994850b6f42c402dbefaeaf2ff95ae1b",
      "651ba11f6e304dacb91bc5836c0bbbb2",
      "1f870367484c487fa79602172b7ce3c2",
      "565d90cb5ac848d4a6424ac0487aded5",
      "04611db8b3e8457a8df9b4750efd521c",
      "047b1030f9be48ae9cf507711b089b7b",
      "c13c7b2bed044e609d7e3db931775b27",
      "84cb76a939444fb59a9cf024ddf393c3",
      "8beb9b86a0d34e3ca94f839519b353b9",
      "4277fa9ce1684d6a94f8a1fcbf4beaae",
      "528b5f30a04447e2beae832149ade5c5",
      "ce75d9eeb3854576bfa5f4896e35a3a1",
      "8a2e001cbc044db69122d397621cf5d9",
      "c5c076007a3a4bca847074412e4e4526",
      "482c534fc1cb42a282e52b761adf8378",
      "57ec472e551b4fa89f632144ee0369d3",
      "9cff020a71624cda93661bbb0a14fedb",
      "682471f4e189407cbb05ecfcffb9d107",
      "637645759dca46dfb183c7879a1b0dd7",
      "cc8f61169e024b2a95fcbe4885a2e03c",
      "aa858bdad3d9462781e9cee18fb85bae",
      "f0680d398b104fe7bef7f7f56af7ad89",
      "a9283d47ebdd44e3afe915f86396caf6",
      "8d04acff6e324a139784f0cedb27cd00",
      "d97505f3f6bb49d1b254fa43dec5b74e",
      "f4630367d069442c9521a0a3b6929843",
      "a0fe7c45e4ed42c48311732c5bcce9a1",
      "c9c3d07287c7422698bf25dba5603166",
      "14040e3f18544fedaac191a79889fda5",
      "87509fa552fa4931b9027fff21b9f2bb",
      "03dbfc167e084d339965e29e379dc693",
      "75a8338d3c3c40bf96977a7482ac0fd0",
      "873a262e0dfb4792b1c4e165a98120ce",
      "615df13a854a4b0691746ce7a69bcae1",
      "0738f33ab0824615a9312e4fc5c09f26",
      "b729e35d72e94cf9b005ff1dd4f33877",
      "154a1e57d82845679b22bd1251aeaabd",
      "f3b7b216485b4288991cba44b4941ba2",
      "6796b0983d62401ab75ae34a32a39c2b",
      "d5da902f0218447cab090d04adaca892",
      "87d497d66fb0456ba411ab40d7980fcf",
      "37b5944f46e0410091d94fcdae438c13",
      "2b90f3ac10b340899415454add8da878",
      "ee01f503f5a945209cc8a9b6f1c87e0b",
      "36861060fa8646a9946cae424db73c18",
      "bd1fd676a00742dcb3d740f41f57d9da",
      "9ef8d77b55674105b89f4b4b3d38850b",
      "bd02cde9d0b64a2ebf5dc74c09a4a135",
      "10c1596bd15244d4972ba77a058b11df",
      "3508e79c7d0d4cb19ff7586927c0305b",
      "a75d35f59c0d43ab90f6591d6506debf",
      "df7a1b428ff845809f42151c2584e61a",
      "290fb373dea748d4abcee0649a7f1256",
      "aa8bff61162242f697a84bf4139446b6",
      "9b6e045faf214ee08ac161e178bdd11c",
      "53f494832cbf42df8821aa18e6fc3c90",
      "0d402b133deb41748536cc42968b4c59",
      "6f13c39f0f45495db2ff1c00516d620b",
      "07a541a38ca6487d8adf44accecb2190",
      "e768cbe2727d47469ca80cbc3770c1d1",
      "b1d0000618534f798c5d0957230669fc",
      "90712dcd76cf4427b28d5ca4e23c1c16",
      "6746658c839a465386be8f2ac9b97111",
      "cb37ba761be34868b3c5a58a49bb6376",
      "a6605e63d64741b68e21ee48b486a8e2",
      "d62f600af6174406bbe2a39550287d78",
      "a86e546fe0864b128bc564ceb20e208f",
      "c6d24fc0175d49e8bea34bd89aa28c96"
     ]
    },
    "id": "pAzDOOTAeYuv",
    "outputId": "d91ebb61-d233-469c-9adb-820e907bf37c"
   },
   "outputs": [
    {
     "output_type": "display_data",
     "data": {
      "text/plain": [
       "tokenizer_config.json:   0%|          | 0.00/338 [00:00<?, ?B/s]"
      ],
      "application/vnd.jupyter.widget-view+json": {
       "version_major": 2,
       "version_minor": 0,
       "model_id": "2e56d17796044ebbbce5a9b6cdf69a27"
      }
     },
     "metadata": {}
    },
    {
     "output_type": "display_data",
     "data": {
      "text/plain": [
       "vocab.txt: 0.00B [00:00, ?B/s]"
      ],
      "application/vnd.jupyter.widget-view+json": {
       "version_major": 2,
       "version_minor": 0,
       "model_id": "c154a73d5f194f148b716f21b2616d89"
      }
     },
     "metadata": {}
    },
    {
     "output_type": "display_data",
     "data": {
      "text/plain": [
       "bpe.codes: 0.00B [00:00, ?B/s]"
      ],
      "application/vnd.jupyter.widget-view+json": {
       "version_major": 2,
       "version_minor": 0,
       "model_id": "1f870367484c487fa79602172b7ce3c2"
      }
     },
     "metadata": {}
    },
    {
     "output_type": "display_data",
     "data": {
      "text/plain": [
       "added_tokens.json:   0%|          | 0.00/22.0 [00:00<?, ?B/s]"
      ],
      "application/vnd.jupyter.widget-view+json": {
       "version_major": 2,
       "version_minor": 0,
       "model_id": "c5c076007a3a4bca847074412e4e4526"
      }
     },
     "metadata": {}
    },
    {
     "output_type": "display_data",
     "data": {
      "text/plain": [
       "special_tokens_map.json:   0%|          | 0.00/167 [00:00<?, ?B/s]"
      ],
      "application/vnd.jupyter.widget-view+json": {
       "version_major": 2,
       "version_minor": 0,
       "model_id": "d97505f3f6bb49d1b254fa43dec5b74e"
      }
     },
     "metadata": {}
    },
    {
     "output_type": "display_data",
     "data": {
      "text/plain": [
       "config.json:   0%|          | 0.00/949 [00:00<?, ?B/s]"
      ],
      "application/vnd.jupyter.widget-view+json": {
       "version_major": 2,
       "version_minor": 0,
       "model_id": "b729e35d72e94cf9b005ff1dd4f33877"
      }
     },
     "metadata": {}
    },
    {
     "output_type": "display_data",
     "data": {
      "text/plain": [
       "pytorch_model.bin:   0%|          | 0.00/540M [00:00<?, ?B/s]"
      ],
      "application/vnd.jupyter.widget-view+json": {
       "version_major": 2,
       "version_minor": 0,
       "model_id": "9ef8d77b55674105b89f4b4b3d38850b"
      }
     },
     "metadata": {}
    },
    {
     "output_type": "display_data",
     "data": {
      "text/plain": [
       "model.safetensors:   0%|          | 0.00/540M [00:00<?, ?B/s]"
      ],
      "application/vnd.jupyter.widget-view+json": {
       "version_major": 2,
       "version_minor": 0,
       "model_id": "6f13c39f0f45495db2ff1c00516d620b"
      }
     },
     "metadata": {}
    },
    {
     "output_type": "stream",
     "name": "stderr",
     "text": [
      "\n",
      "  0%|          | 0/5 [00:00<?, ?it/s]\u001b[A\n",
      " 20%|\u2588\u2588        | 1/5 [00:08<00:33,  8.42s/it]\u001b[A\n",
      " 40%|\u2588\u2588\u2588\u2588      | 2/5 [00:16<00:24,  8.21s/it]\u001b[A\n",
      " 60%|\u2588\u2588\u2588\u2588\u2588\u2588    | 3/5 [00:24<00:16,  8.11s/it]\u001b[A\n",
      " 80%|\u2588\u2588\u2588\u2588\u2588\u2588\u2588\u2588  | 4/5 [00:32<00:07,  7.91s/it]\u001b[A\n",
      "100%|\u2588\u2588\u2588\u2588\u2588\u2588\u2588\u2588\u2588\u2588| 5/5 [00:36<00:00,  7.29s/it]"
     ]
    },
    {
     "output_type": "stream",
     "name": "stdout",
     "text": [
      "\u2705 Accuracy: 77.5 %\n",
      "\n",
      "\ud83d\udcca Classification Report:\n",
      "               precision    recall  f1-score   support\n",
      "\n",
      "    negative       0.82      0.83      0.83        60\n",
      "     neutral       0.77      0.61      0.68        54\n",
      "    positive       0.73      0.89      0.80        46\n",
      "\n",
      "    accuracy                           0.78       160\n",
      "   macro avg       0.77      0.78      0.77       160\n",
      "weighted avg       0.78      0.78      0.77       160\n",
      "\n",
      "\ud83e\uddfe Confusion Matrix:\n",
      " [[50  8  2]\n",
      " [ 8 33 13]\n",
      " [ 3  2 41]]\n"
     ]
    },
    {
     "output_type": "stream",
     "name": "stderr",
     "text": [
      "\n"
     ]
    }
   ],
   "source": [
    "import torch\n",
    "from transformers import AutoTokenizer, AutoModelForSequenceClassification\n",
    "from sklearn.metrics import accuracy_score, classification_report, confusion_matrix\n",
    "import pandas as pd\n",
    "import emoji\n",
    "from tqdm import tqdm\n",
    "\n",
    "# Load fine-tuned BERTweet sentiment model\n",
    "model_name = \"finiteautomata/bertweet-base-sentiment-analysis\"\n",
    "tokenizer = AutoTokenizer.from_pretrained(model_name)\n",
    "model = AutoModelForSequenceClassification.from_pretrained(model_name)\n",
    "\n",
    "# Load dataset\n",
    "file_path = \"/content/drive/My Drive/Sentimental-Analysis/data/Tweets.csv\"\n",
    "df = pd.read_csv(file_path)\n",
    "\n",
    "# Use correct label mapping\n",
    "label_map = {\"negative\": 0, \"neutral\": 1, \"positive\": 2}\n",
    "\n",
    "texts = df['text'].astype(str).tolist()\n",
    "labels = df['airline_sentiment'].map(label_map).tolist()\n",
    "\n",
    "preds = []\n",
    "true = []\n",
    "\n",
    "# Predict only first 5 batches (5*32=160 samples) for speed\n",
    "batch_size = 32\n",
    "for i in tqdm(range(0, 160, batch_size)):\n",
    "    batch_texts = [emoji.demojize(t) for t in texts[i:i + batch_size]]\n",
    "    inputs = tokenizer(batch_texts, return_tensors=\"pt\", truncation=True, padding=True)\n",
    "    with torch.no_grad():\n",
    "        outputs = model(**inputs)\n",
    "        batch_preds = torch.argmax(outputs.logits, dim=1).tolist()\n",
    "    preds.extend(batch_preds)\n",
    "    true.extend(labels[i:i + batch_size])\n",
    "\n",
    "# Evaluate\n",
    "acc = accuracy_score(true, preds)\n",
    "report = classification_report(true, preds, target_names=[\"negative\", \"neutral\", \"positive\"])\n",
    "cm = confusion_matrix(true, preds)\n",
    "\n",
    "print(\"\u2705 Accuracy:\", round(acc * 100, 2), \"%\")\n",
    "print(\"\\n\ud83d\udcca Classification Report:\\n\", report)\n",
    "print(\"\ud83e\uddfe Confusion Matrix:\\n\", cm)\n",
    "\n",
    "\n"
   ]
  },
  {
   "cell_type": "code",
   "source": [
    "import pandas as pd\n",
    "file_path = \"/content/drive/My Drive/Sentimental-Analysis/data/Tweets.csv\"\n",
    "print(df.columns)\n"
   ],
   "metadata": {
    "colab": {
     "base_uri": "https://localhost:8080/"
    },
    "id": "n8tz1Pb6hwLb",
    "outputId": "e8a76dd0-6fc4-4341-e2ef-c80236652330"
   },
   "execution_count": 9,
   "outputs": [
    {
     "output_type": "stream",
     "name": "stdout",
     "text": [
      "Index(['tweet_id', 'airline_sentiment', 'airline_sentiment_confidence',\n",
      "       'negativereason', 'negativereason_confidence', 'airline',\n",
      "       'airline_sentiment_gold', 'name', 'negativereason_gold',\n",
      "       'retweet_count', 'text', 'tweet_coord', 'tweet_created',\n",
      "       'tweet_location', 'user_timezone'],\n",
      "      dtype='object')\n"
     ]
    }
   ]
  },
  {
   "cell_type": "code",
   "source": [
    "from google.colab import drive\n",
    "drive.mount('/content/drive')\n"
   ],
   "metadata": {
    "colab": {
     "base_uri": "https://localhost:8080/"
    },
    "id": "wbTr6VF8elS8",
    "outputId": "e853924e-649e-41ec-e9ef-d75af1e41bb5"
   },
   "execution_count": 1,
   "outputs": [
    {
     "output_type": "stream",
     "name": "stdout",
     "text": [
      "Mounted at /content/drive\n"
     ]
    }
   ]
  }
 ]
}